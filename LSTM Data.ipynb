{
 "cells": [
  {
   "cell_type": "code",
   "execution_count": 48,
   "metadata": {},
   "outputs": [],
   "source": [
    "import numpy as np\n",
    "from sklearn.preprocessing import MinMaxScaler\n",
    "#data = [open, high, low, close, volume USD, EMA difference], most recent entries first\n",
    "data_newest = np.loadtxt(open(\"data/Bitstamp_Minutely.csv\", \"rb\"), delimiter=\",\", skiprows=2, usecols=(3,4,5,6,8))\n",
    "\n",
    "#oldest entries first data\n",
    "X = data_newest[::-1]\n",
    "\n",
    "def get_EMA(x, short=9, long=26, column=0):\n",
    "    EMA = np.zeros((len(x),3))     #Returns EMA matrix with entires: [short period EMA, long period EMA, difference]\n",
    "    \n",
    "    #** REFER TO ABOVE MARKDOWN CELL\n",
    "    EMA[long-1][0] = np.sum(x[long-short:long])/short   #These are SMAs used for the intial EMA calculation\n",
    "    EMA[long-1][1] = np.sum(x[0:long])/long             #These are SMAs used for the intial EMA calculation\n",
    "\n",
    "    #calculate EMA:\n",
    "    w0 = 2/(1+short)   #short period weights\n",
    "    w1 = 2/(1+long)    #long period weights\n",
    "    for i in range(long, len(x)):\n",
    "        EMA[i][0] = x[i]*w0 + EMA[i-1][0]*(1-w0)    #short term EMA \n",
    "        EMA[i][1] = x[i]*w1 + EMA[i-1][1]*(1-w1)    #long term EMA \n",
    "        EMA[i][2] = EMA[i][0]-EMA[i][1]\n",
    "    return EMA\n",
    "\n",
    "def attach_column(M, c):\n",
    "    if M.shape[0] != len(c):\n",
    "        print(\"Error: Cannot attach column to matrix with different sizes\")\n",
    "        return\n",
    "    M = np.insert(M, M.shape[1], c, axis=1)\n",
    "    return M\n",
    "\n",
    "EMA = get_EMA(X[:,0])\n",
    "X = attach_column(X, EMA[:,2])\n",
    "X = X[27:]\n",
    "y = np.zeros(X.shape[0])\n",
    "for i in range(len(X)-5):\n",
    "    y[i] = np.sign(np.average(X[i:i+5,0])-X[i][0])"
   ]
  },
  {
   "cell_type": "code",
   "execution_count": 49,
   "metadata": {},
   "outputs": [],
   "source": [
    "X = X[:-5]\n",
    "y = y[:-5]"
   ]
  },
  {
   "cell_type": "code",
   "execution_count": 50,
   "metadata": {},
   "outputs": [],
   "source": [
    "dataset = attach_column(X, y)\n",
    "np.save('data/labeled_data.npy', dataset)"
   ]
  },
  {
   "cell_type": "code",
   "execution_count": 52,
   "metadata": {},
   "outputs": [
    {
     "data": {
      "text/plain": [
       "array([-1., -1.,  1., ...,  1.,  1.,  1.])"
      ]
     },
     "execution_count": 52,
     "metadata": {},
     "output_type": "execute_result"
    }
   ],
   "source": [
    "y"
   ]
  },
  {
   "cell_type": "code",
   "execution_count": 54,
   "metadata": {},
   "outputs": [
    {
     "name": "stdout",
     "output_type": "stream",
     "text": [
      "[-1. -1. -1. -1.  1.  1.  1.  1.  1.  1.]\n"
     ]
    }
   ],
   "source": [
    "data = np.load('data/labeled_data.npy')\n",
    "scaler = MinMaxScaler()\n",
    "        \n",
    "labels = data[:, -1]\n",
    "data = data[:, :-1]\n",
    "\n",
    "data = scaler.fit_transform(data)\n",
    "\n",
    "seq_len = 60\n",
    "full_len = len(data) - seq_len\n",
    "n_features = 6\n",
    "X_sequenced = np.zeros((full_len, seq_len, n_features))\n",
    "for i in range(full_len):\n",
    "    X_sequenced[i] = data[i:i + seq_len]\n",
    "labels = labels[seq_len:]\n",
    "print(labels[-10:])"
   ]
  },
  {
   "cell_type": "code",
   "execution_count": 55,
   "metadata": {},
   "outputs": [],
   "source": [
    "labels[labels == -1] = 0"
   ]
  },
  {
   "cell_type": "code",
   "execution_count": 57,
   "metadata": {},
   "outputs": [
    {
     "name": "stdout",
     "output_type": "stream",
     "text": [
      "[0. 0. 0. 0. 1. 1. 1. 1. 1. 1.]\n"
     ]
    }
   ],
   "source": [
    "print(labels[-10:])"
   ]
  },
  {
   "cell_type": "code",
   "execution_count": 20,
   "metadata": {},
   "outputs": [
    {
     "data": {
      "text/html": [
       "<style  type=\"text/css\" >\n",
       "</style><table id=\"T_4a8d40c3_aace_11eb_8740_e470b88b8eef\" style='display:inline'><caption>LSTM models</caption><thead>    <tr>        <th class=\"blank level0\" ></th>        <th class=\"col_heading level0 col0\" >Memory cells</th>        <th class=\"col_heading level0 col1\" >Layers</th>        <th class=\"col_heading level0 col2\" >Batch size</th>        <th class=\"col_heading level0 col3\" >Sequence length</th>        <th class=\"col_heading level0 col4\" >Accuracy</th>    </tr>    <tr>        <th class=\"index_name level0\" >Model</th>        <th class=\"blank\" ></th>        <th class=\"blank\" ></th>        <th class=\"blank\" ></th>        <th class=\"blank\" ></th>        <th class=\"blank\" ></th>    </tr></thead><tbody>\n",
       "                <tr>\n",
       "                        <th id=\"T_4a8d40c3_aace_11eb_8740_e470b88b8eeflevel0_row0\" class=\"row_heading level0 row0\" >0</th>\n",
       "                        <td id=\"T_4a8d40c3_aace_11eb_8740_e470b88b8eefrow0_col0\" class=\"data row0 col0\" >1</td>\n",
       "                        <td id=\"T_4a8d40c3_aace_11eb_8740_e470b88b8eefrow0_col1\" class=\"data row0 col1\" >1</td>\n",
       "                        <td id=\"T_4a8d40c3_aace_11eb_8740_e470b88b8eefrow0_col2\" class=\"data row0 col2\" >64</td>\n",
       "                        <td id=\"T_4a8d40c3_aace_11eb_8740_e470b88b8eefrow0_col3\" class=\"data row0 col3\" >60</td>\n",
       "                        <td id=\"T_4a8d40c3_aace_11eb_8740_e470b88b8eefrow0_col4\" class=\"data row0 col4\" >0.527000</td>\n",
       "            </tr>\n",
       "            <tr>\n",
       "                        <th id=\"T_4a8d40c3_aace_11eb_8740_e470b88b8eeflevel0_row1\" class=\"row_heading level0 row1\" >1</th>\n",
       "                        <td id=\"T_4a8d40c3_aace_11eb_8740_e470b88b8eefrow1_col0\" class=\"data row1 col0\" >3</td>\n",
       "                        <td id=\"T_4a8d40c3_aace_11eb_8740_e470b88b8eefrow1_col1\" class=\"data row1 col1\" >2</td>\n",
       "                        <td id=\"T_4a8d40c3_aace_11eb_8740_e470b88b8eefrow1_col2\" class=\"data row1 col2\" >64</td>\n",
       "                        <td id=\"T_4a8d40c3_aace_11eb_8740_e470b88b8eefrow1_col3\" class=\"data row1 col3\" >60</td>\n",
       "                        <td id=\"T_4a8d40c3_aace_11eb_8740_e470b88b8eefrow1_col4\" class=\"data row1 col4\" >0.505000</td>\n",
       "            </tr>\n",
       "            <tr>\n",
       "                        <th id=\"T_4a8d40c3_aace_11eb_8740_e470b88b8eeflevel0_row2\" class=\"row_heading level0 row2\" >2</th>\n",
       "                        <td id=\"T_4a8d40c3_aace_11eb_8740_e470b88b8eefrow2_col0\" class=\"data row2 col0\" >5</td>\n",
       "                        <td id=\"T_4a8d40c3_aace_11eb_8740_e470b88b8eefrow2_col1\" class=\"data row2 col1\" >2</td>\n",
       "                        <td id=\"T_4a8d40c3_aace_11eb_8740_e470b88b8eefrow2_col2\" class=\"data row2 col2\" >256</td>\n",
       "                        <td id=\"T_4a8d40c3_aace_11eb_8740_e470b88b8eefrow2_col3\" class=\"data row2 col3\" >10</td>\n",
       "                        <td id=\"T_4a8d40c3_aace_11eb_8740_e470b88b8eefrow2_col4\" class=\"data row2 col4\" >0.500000</td>\n",
       "            </tr>\n",
       "            <tr>\n",
       "                        <th id=\"T_4a8d40c3_aace_11eb_8740_e470b88b8eeflevel0_row3\" class=\"row_heading level0 row3\" >3</th>\n",
       "                        <td id=\"T_4a8d40c3_aace_11eb_8740_e470b88b8eefrow3_col0\" class=\"data row3 col0\" >5</td>\n",
       "                        <td id=\"T_4a8d40c3_aace_11eb_8740_e470b88b8eefrow3_col1\" class=\"data row3 col1\" >2</td>\n",
       "                        <td id=\"T_4a8d40c3_aace_11eb_8740_e470b88b8eefrow3_col2\" class=\"data row3 col2\" >256</td>\n",
       "                        <td id=\"T_4a8d40c3_aace_11eb_8740_e470b88b8eefrow3_col3\" class=\"data row3 col3\" >120</td>\n",
       "                        <td id=\"T_4a8d40c3_aace_11eb_8740_e470b88b8eefrow3_col4\" class=\"data row3 col4\" >0.499000</td>\n",
       "            </tr>\n",
       "            <tr>\n",
       "                        <th id=\"T_4a8d40c3_aace_11eb_8740_e470b88b8eeflevel0_row4\" class=\"row_heading level0 row4\" >4</th>\n",
       "                        <td id=\"T_4a8d40c3_aace_11eb_8740_e470b88b8eefrow4_col0\" class=\"data row4 col0\" >5</td>\n",
       "                        <td id=\"T_4a8d40c3_aace_11eb_8740_e470b88b8eefrow4_col1\" class=\"data row4 col1\" >2</td>\n",
       "                        <td id=\"T_4a8d40c3_aace_11eb_8740_e470b88b8eefrow4_col2\" class=\"data row4 col2\" >1024</td>\n",
       "                        <td id=\"T_4a8d40c3_aace_11eb_8740_e470b88b8eefrow4_col3\" class=\"data row4 col3\" >60</td>\n",
       "                        <td id=\"T_4a8d40c3_aace_11eb_8740_e470b88b8eefrow4_col4\" class=\"data row4 col4\" >0.534000</td>\n",
       "            </tr>\n",
       "            <tr>\n",
       "                        <th id=\"T_4a8d40c3_aace_11eb_8740_e470b88b8eeflevel0_row5\" class=\"row_heading level0 row5\" >5</th>\n",
       "                        <td id=\"T_4a8d40c3_aace_11eb_8740_e470b88b8eefrow5_col0\" class=\"data row5 col0\" >10</td>\n",
       "                        <td id=\"T_4a8d40c3_aace_11eb_8740_e470b88b8eefrow5_col1\" class=\"data row5 col1\" >2</td>\n",
       "                        <td id=\"T_4a8d40c3_aace_11eb_8740_e470b88b8eefrow5_col2\" class=\"data row5 col2\" >64</td>\n",
       "                        <td id=\"T_4a8d40c3_aace_11eb_8740_e470b88b8eefrow5_col3\" class=\"data row5 col3\" >60</td>\n",
       "                        <td id=\"T_4a8d40c3_aace_11eb_8740_e470b88b8eefrow5_col4\" class=\"data row5 col4\" >0.504000</td>\n",
       "            </tr>\n",
       "    </tbody></table>"
      ],
      "text/plain": [
       "<pandas.io.formats.style.Styler at 0x253583ba070>"
      ]
     },
     "execution_count": 20,
     "metadata": {},
     "output_type": "execute_result"
    }
   ],
   "source": [
    "import pandas as pd\n",
    "import matplotlib.pyplot as plt\n",
    "columns = ['Memory cells', 'Layers', 'Batch size', 'Sequence length', 'Accuracy']\n",
    "hparams = [\n",
    "    [1, 1, 64, 60, 0.527],\n",
    "    [3, 2, 64, 60, 0.505],\n",
    "    [5, 2, 256, 10, 0.500],\n",
    "    [5, 2, 256, 120, 0.499],\n",
    "    [5, 2, 1024, 60, 0.534],\n",
    "    [10, 2, 64, 60, 0.504],\n",
    "]\n",
    "df = pd.DataFrame(hparams, columns=columns)\n",
    "df.index.name='Model'\n",
    "\n",
    "\n",
    "df.style.set_table_attributes(\"style='display:inline'\").set_caption('LSTM models')\n",
    "# df.head()\n",
    "\n",
    "# fig, ax = plt.subplots(figsize=(16, 8))\n",
    "\n",
    "# ax.table(cellText = df.values,\n",
    "#           rowLabels = df.index,\n",
    "#           colLabels = df.columns,\n",
    "#           loc = \"center\"\n",
    "#          )\n",
    "# # ax.set_title(\"Top 10 Fields of Research by Aggregated Funding Amount\")\n",
    "\n",
    "# ax.axis(\"off\")\n",
    "# plt.show()"
   ]
  },
  {
   "cell_type": "code",
   "execution_count": null,
   "metadata": {},
   "outputs": [],
   "source": []
  }
 ],
 "metadata": {
  "kernelspec": {
   "display_name": "Python 3",
   "language": "python",
   "name": "python3"
  },
  "language_info": {
   "codemirror_mode": {
    "name": "ipython",
    "version": 3
   },
   "file_extension": ".py",
   "mimetype": "text/x-python",
   "name": "python",
   "nbconvert_exporter": "python",
   "pygments_lexer": "ipython3",
   "version": "3.8.5"
  }
 },
 "nbformat": 4,
 "nbformat_minor": 4
}
