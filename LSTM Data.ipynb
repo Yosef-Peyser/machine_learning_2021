{
 "cells": [
  {
   "cell_type": "code",
   "execution_count": 48,
   "metadata": {},
   "outputs": [],
   "source": [
    "import numpy as np\n",
    "from sklearn.preprocessing import MinMaxScaler\n",
    "#data = [open, high, low, close, volume USD, EMA difference], most recent entries first\n",
    "data_newest = np.loadtxt(open(\"data/Bitstamp_Minutely.csv\", \"rb\"), delimiter=\",\", skiprows=2, usecols=(3,4,5,6,8))\n",
    "\n",
    "#oldest entries first data\n",
    "X = data_newest[::-1]\n",
    "\n",
    "def get_EMA(x, short=9, long=26, column=0):\n",
    "    EMA = np.zeros((len(x),3))     #Returns EMA matrix with entires: [short period EMA, long period EMA, difference]\n",
    "    \n",
    "    #** REFER TO ABOVE MARKDOWN CELL\n",
    "    EMA[long-1][0] = np.sum(x[long-short:long])/short   #These are SMAs used for the intial EMA calculation\n",
    "    EMA[long-1][1] = np.sum(x[0:long])/long             #These are SMAs used for the intial EMA calculation\n",
    "\n",
    "    #calculate EMA:\n",
    "    w0 = 2/(1+short)   #short period weights\n",
    "    w1 = 2/(1+long)    #long period weights\n",
    "    for i in range(long, len(x)):\n",
    "        EMA[i][0] = x[i]*w0 + EMA[i-1][0]*(1-w0)    #short term EMA \n",
    "        EMA[i][1] = x[i]*w1 + EMA[i-1][1]*(1-w1)    #long term EMA \n",
    "        EMA[i][2] = EMA[i][0]-EMA[i][1]\n",
    "    return EMA\n",
    "\n",
    "def attach_column(M, c):\n",
    "    if M.shape[0] != len(c):\n",
    "        print(\"Error: Cannot attach column to matrix with different sizes\")\n",
    "        return\n",
    "    M = np.insert(M, M.shape[1], c, axis=1)\n",
    "    return M\n",
    "\n",
    "EMA = get_EMA(X[:,0])\n",
    "X = attach_column(X, EMA[:,2])\n",
    "X = X[27:]\n",
    "y = np.zeros(X.shape[0])\n",
    "for i in range(len(X)-5):\n",
    "    y[i] = np.sign(np.average(X[i:i+5,0])-X[i][0])"
   ]
  },
  {
   "cell_type": "code",
   "execution_count": 49,
   "metadata": {},
   "outputs": [],
   "source": [
    "X = X[:-5]\n",
    "y = y[:-5]"
   ]
  },
  {
   "cell_type": "code",
   "execution_count": 50,
   "metadata": {},
   "outputs": [],
   "source": [
    "dataset = attach_column(X, y)\n",
    "np.save('data/labeled_data.npy', dataset)"
   ]
  },
  {
   "cell_type": "code",
   "execution_count": 52,
   "metadata": {},
   "outputs": [
    {
     "data": {
      "text/plain": [
       "array([-1., -1.,  1., ...,  1.,  1.,  1.])"
      ]
     },
     "execution_count": 52,
     "metadata": {},
     "output_type": "execute_result"
    }
   ],
   "source": [
    "y"
   ]
  },
  {
   "cell_type": "code",
   "execution_count": 54,
   "metadata": {},
   "outputs": [
    {
     "name": "stdout",
     "output_type": "stream",
     "text": [
      "[-1. -1. -1. -1.  1.  1.  1.  1.  1.  1.]\n"
     ]
    }
   ],
   "source": [
    "data = np.load('data/labeled_data.npy')\n",
    "scaler = MinMaxScaler()\n",
    "        \n",
    "labels = data[:, -1]\n",
    "data = data[:, :-1]\n",
    "\n",
    "data = scaler.fit_transform(data)\n",
    "\n",
    "seq_len = 60\n",
    "full_len = len(data) - seq_len\n",
    "n_features = 6\n",
    "X_sequenced = np.zeros((full_len, seq_len, n_features))\n",
    "for i in range(full_len):\n",
    "    X_sequenced[i] = data[i:i + seq_len]\n",
    "labels = labels[seq_len:]\n",
    "print(labels[-10:])"
   ]
  },
  {
   "cell_type": "code",
   "execution_count": 55,
   "metadata": {},
   "outputs": [],
   "source": [
    "labels[labels == -1] = 0"
   ]
  },
  {
   "cell_type": "code",
   "execution_count": 57,
   "metadata": {},
   "outputs": [
    {
     "name": "stdout",
     "output_type": "stream",
     "text": [
      "[0. 0. 0. 0. 1. 1. 1. 1. 1. 1.]\n"
     ]
    }
   ],
   "source": [
    "print(labels[-10:])"
   ]
  },
  {
   "cell_type": "code",
   "execution_count": null,
   "metadata": {},
   "outputs": [],
   "source": []
  }
 ],
 "metadata": {
  "kernelspec": {
   "display_name": "Python 3",
   "language": "python",
   "name": "python3"
  },
  "language_info": {
   "codemirror_mode": {
    "name": "ipython",
    "version": 3
   },
   "file_extension": ".py",
   "mimetype": "text/x-python",
   "name": "python",
   "nbconvert_exporter": "python",
   "pygments_lexer": "ipython3",
   "version": "3.8.5"
  }
 },
 "nbformat": 4,
 "nbformat_minor": 4
}
