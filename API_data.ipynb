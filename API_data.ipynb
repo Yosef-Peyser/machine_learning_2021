{
 "cells": [
  {
   "cell_type": "markdown",
   "metadata": {},
   "source": [
    "<h3>Yosef Peyser</h3>  \n",
    "4/4/2021  "
   ]
  },
  {
   "cell_type": "markdown",
   "metadata": {},
   "source": [
    "API https://nomics.com/docs/https://nomics.com/docs/<br />\n",
    "Request using GET: <b>x = requests.get(\"URL\")</b><br />\n",
    "Reading GET response: <b>x.json()[n][\"key\"]</b> where n is the n-th list and key is the desired info\n",
    "<br /><br />\n",
    "Parameters:<br />\n",
    "<b>key</b>,   API Key<br />\n",
    "<b>start</b>,   start time of the interval in RCF3339 eg: 2021-03-31T00%3A00%3A00-6:00<br />\n",
    "<b>end</b>,   end time of the data<br />"
   ]
  },
  {
   "cell_type": "code",
   "execution_count": 2,
   "metadata": {},
   "outputs": [],
   "source": [
    "import requests\n",
    "from datetime import datetime"
   ]
  },
  {
   "cell_type": "code",
   "execution_count": 3,
   "metadata": {},
   "outputs": [],
   "source": [
    "def getTimes():               #Returns start and end paramters\n",
    "    t = datetime.utcnow()     #relative to your computer's clock but in UTC\n",
    "    hour_offset = 1           #Get data over this amount of hours until now\n",
    "    minute_offset = 0         #Get data over this amount of minutes until now\n",
    "    timestart = f'{t.date().year}-{\"{:02d}\".format(t.date().month)}-{\"{:02d}\".format(t.date().day)}T{\"{:02d}\".format(t.time().hour - hour_offset)}%3A{\"{:02d}\".format(t.time().minute - minute_offset)}%3A{\"{:02d}\".format(t.time().second)}Z'\n",
    "    timeend = f'{t.date().year}-{\"{:02d}\".format(t.date().month)}-{\"{:02d}\".format(t.date().day)}T{\"{:02d}\".format(t.time().hour)}%3A{\"{:02d}\".format(t.time().minute-1)}%3A{\"{:02d}\".format(t.time().second)}Z'\n",
    "    return (timestart, timeend)\n",
    "\n",
    "key = '68b6f8450e3d3034662fac71a4327368'\n",
    "times = getTimes()\n",
    "x = requests.get(f'https://api.nomics.com/v1/currencies/sparkline?key=68b6f8450e3d3034662fac71a4327368&ids=BTC,ETH,XRP&start={times[0]}&end={times[1]}')\n"
   ]
  }
 ],
 "metadata": {
  "kernelspec": {
   "display_name": "Python 3",
   "language": "python",
   "name": "python3"
  },
  "language_info": {
   "codemirror_mode": {
    "name": "ipython",
    "version": 3
   },
   "file_extension": ".py",
   "mimetype": "text/x-python",
   "name": "python",
   "nbconvert_exporter": "python",
   "pygments_lexer": "ipython3",
   "version": "3.8.5"
  }
 },
 "nbformat": 4,
 "nbformat_minor": 4
}
